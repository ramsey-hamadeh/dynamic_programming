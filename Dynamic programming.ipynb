{
 "cells": [
  {
   "cell_type": "code",
   "execution_count": 1,
   "metadata": {
    "collapsed": true
   },
   "outputs": [],
   "source": [
    "import numpy as np\n",
    "from datetime import datetime"
   ]
  },
  {
   "cell_type": "markdown",
   "metadata": {},
   "source": [
    "## Input is a dictionary"
   ]
  },
  {
   "cell_type": "code",
   "execution_count": 1,
   "metadata": {
    "collapsed": true
   },
   "outputs": [],
   "source": [
    "def dfs(graph, start):\n",
    "    visited, stack = set(), [start]\n",
    "    while stack:\n",
    "        vertex = stack.pop()\n",
    "        if vertex not in visited:\n",
    "            visited.add(vertex)\n",
    "            stack.extend(graph[vertex] - visited)\n",
    "    return visited"
   ]
  },
  {
   "cell_type": "code",
   "execution_count": 8,
   "metadata": {
    "collapsed": false
   },
   "outputs": [
    {
     "data": {
      "text/plain": [
       "{'A', 'C', 'E', 'F'}"
      ]
     },
     "execution_count": 8,
     "metadata": {},
     "output_type": "execute_result"
    }
   ],
   "source": [
    "graph = {'A': set(['C']),\n",
    "         'B': set(['D']),\n",
    "         'C': set(['A', 'F']),\n",
    "         'D': set(['B']),\n",
    "         'E': set(['F']),\n",
    "         'F': set(['C', 'E'])}\n",
    "\n",
    "dfs(graph, 'F')"
   ]
  },
  {
   "cell_type": "markdown",
   "metadata": {},
   "source": [
    "## Input is a list of lists with 1's and 0's"
   ]
  },
  {
   "cell_type": "code",
   "execution_count": 60,
   "metadata": {
    "collapsed": false
   },
   "outputs": [],
   "source": [
    "def dfs(matrix, start):    \n",
    "    visited, queue = set(), [start]\n",
    "    while queue:\n",
    "        vertex = queue.pop()\n",
    "        if vertex not in visited:\n",
    "            visited.add(vertex)\n",
    "            neighbours = set(i for i, e in enumerate(matrix[vertex]) if e != 0)\n",
    "            queue.extend(neighbours - visited)\n",
    "\n",
    "    return visited"
   ]
  },
  {
   "cell_type": "code",
   "execution_count": 76,
   "metadata": {
    "collapsed": false
   },
   "outputs": [],
   "source": [
    "def circles(matrix):\n",
    "    unique = set(range(len(M)))\n",
    "    circles = 0\n",
    "    while unique:\n",
    "        circles += 1\n",
    "        unique -= dfs(matrix, list(unique)[0])\n",
    "\n",
    "    return circles"
   ]
  },
  {
   "cell_type": "code",
   "execution_count": 79,
   "metadata": {
    "collapsed": false
   },
   "outputs": [
    {
     "data": {
      "text/plain": [
       "2"
      ]
     },
     "execution_count": 79,
     "metadata": {},
     "output_type": "execute_result"
    }
   ],
   "source": [
    "M = [[1,0,0,1], [0,1,1,0], [0,1,1,0], [1,0,0,1]]\n",
    "M = [[0 for i]]\n",
    "circles(M)"
   ]
  },
  {
   "cell_type": "markdown",
   "metadata": {},
   "source": [
    "## String problem"
   ]
  },
  {
   "cell_type": "markdown",
   "metadata": {},
   "source": [
    "### Version 1 - Me"
   ]
  },
  {
   "cell_type": "code",
   "execution_count": 212,
   "metadata": {
    "collapsed": false
   },
   "outputs": [
    {
     "data": {
      "text/plain": [
       "True"
      ]
     },
     "execution_count": 212,
     "metadata": {},
     "output_type": "execute_result"
    }
   ],
   "source": [
    "def isEditDistanceOne(s1, s2):\n",
    "\n",
    "    m, n = len(s1), len(s2)\n",
    " \n",
    "    if abs(m - n) > 1:\n",
    "        return False\n",
    " \n",
    "    count = 0    # Count of isEditDistanceOne\n",
    "    i, j = 0, 0\n",
    "    \n",
    "    while i < m and j < n:\n",
    "        # If current characters dont match\n",
    "        if s1[i] != s2[j]:\n",
    "            if count == 1:\n",
    "                return False\n",
    " \n",
    "            if m > n:\n",
    "                i+=1\n",
    "            elif m < n:\n",
    "                j+=1\n",
    "            else:    # If lengths of both strings is same\n",
    "                i+=1\n",
    "                j+=1\n",
    " \n",
    "            count+=1\n",
    " \n",
    "        else:    # if current characters match\n",
    "            i+=1\n",
    "            j+=1\n",
    " \n",
    "    # if last character is extra in any string\n",
    "    if i < m or j < n:\n",
    "        count+=1\n",
    " \n",
    "    return count == 1\n",
    "\n",
    "isEditDistanceOne('2', '1')"
   ]
  },
  {
   "cell_type": "code",
   "execution_count": 221,
   "metadata": {
    "collapsed": false
   },
   "outputs": [],
   "source": [
    "def getTable(strings):\n",
    "    table = [[0 for i in range(len(strings))] for j in range(len(strings))]\n",
    "    for i in range(len(strings)):\n",
    "        for j in range(i):\n",
    "            if (isEditDistanceOne(strings[i],strings[j])) and (len(strings[i]) != len(strings[j])):\n",
    "                table[i][j] = 1\n",
    "            else:\n",
    "                table[i][j] = 0\n",
    "            \n",
    "    return table"
   ]
  },
  {
   "cell_type": "code",
   "execution_count": 363,
   "metadata": {
    "collapsed": false
   },
   "outputs": [],
   "source": [
    "def longest_chain_1(strings):\n",
    "    strings.sort(key = len) \n",
    "    output = getTable(strings)\n",
    "    max_val = 0\n",
    "    for i in range(len(output)):\n",
    "        neighbours = len(dfs(getTable(strings), i)) #using dfs to find number of neighbours\n",
    "        if neighbours >= max_val:\n",
    "            max_val = neighbours\n",
    "\n",
    "    return max_val"
   ]
  },
  {
   "cell_type": "markdown",
   "metadata": {},
   "source": [
    "### Version 2 - online"
   ]
  },
  {
   "cell_type": "code",
   "execution_count": 364,
   "metadata": {
    "collapsed": true
   },
   "outputs": [],
   "source": [
    "def longest_chain_2(w):\n",
    "\n",
    "    words = set()\n",
    "\n",
    "    for word in w:\n",
    "        words.add(word)\n",
    "\n",
    "    max_chain = 0\n",
    "\n",
    "    for word in words:\n",
    "        if len(word) <= max_chain: # skip word if it cannot be greater than max_chain\n",
    "            continue\n",
    "\n",
    "        max_candidate = find_longest_chain(word, words, 0, [ 0 ])\n",
    "        max_chain = max(max_candidate, max_chain)\n",
    "    return max_chain\n",
    "\n",
    "\n",
    "\n",
    "def find_longest_chain(word, words, current_chain, max_chain):\n",
    "    if word not in words: # set: O(1) --> better than list: O(n)\n",
    "        return 0\n",
    "\n",
    "    current_chain += 1\n",
    "    max_chain[0] = current_chain\n",
    "\n",
    "    for i in range(len(word)):\n",
    "        new_word = word[:i] + word[i+1:]\n",
    "        find_longest_chain(new_word, words, current_chain, max_chain)\n",
    "\n",
    "    return max_chain[0]\n",
    "\n"
   ]
  },
  {
   "cell_type": "markdown",
   "metadata": {},
   "source": [
    "### Version 3 - me"
   ]
  },
  {
   "cell_type": "code",
   "execution_count": 385,
   "metadata": {
    "collapsed": false
   },
   "outputs": [],
   "source": [
    "def find_longest_chain(word, words, chain_length, max_length):\n",
    "    if word not in words:\n",
    "        return 0\n",
    "    \n",
    "    chain_length += 1\n",
    "    max_length[0] = chain_length\n",
    "    \n",
    "    for char in range(len(word)):\n",
    "        temp = word[:char] + word[char+1:]\n",
    "        find_longest_chain(temp, words, chain_length, max_length)\n",
    "        \n",
    "    return max_length[0]\n",
    "\n",
    "\n",
    "def longest_chain_3(w):\n",
    "    max_chain = 0\n",
    "    for word in set(w):            \n",
    "        max_chain = max(max_chain, find_longest_chain(word, set(w), 0, [0]))\n",
    "    \n",
    "    return max_chain"
   ]
  },
  {
   "cell_type": "markdown",
   "metadata": {},
   "source": [
    "### Test"
   ]
  },
  {
   "cell_type": "code",
   "execution_count": 388,
   "metadata": {
    "collapsed": false
   },
   "outputs": [],
   "source": [
    "#strings = ['abc', 'bc', 'a', 'ab']\n",
    "#strings = ['a', 'abc', 'ba', 'bda', 'bcda', 'bbbb', 'bcdar', 'reda', 'bbbbb', 'bbcbbb', 'bcdart']\n",
    "#strings = ['b', 'bbda', 'bbc', 'bbdac', '']\n",
    "strings = ['', 'ab']\n",
    "strings = ['']"
   ]
  },
  {
   "cell_type": "code",
   "execution_count": 389,
   "metadata": {
    "collapsed": false
   },
   "outputs": [
    {
     "name": "stdout",
     "output_type": "stream",
     "text": [
      "1\n",
      "0\n",
      "1\n"
     ]
    }
   ],
   "source": [
    "print(longest_chain_1(strings))\n",
    "print(longest_chain_2(strings))\n",
    "print(longest_chain_3(strings))"
   ]
  },
  {
   "cell_type": "code",
   "execution_count": 377,
   "metadata": {
    "collapsed": false
   },
   "outputs": [
    {
     "name": "stdout",
     "output_type": "stream",
     "text": [
      "0:00:00.003002\n",
      "0:00:00\n",
      "0:00:00\n"
     ]
    }
   ],
   "source": [
    "startTime = datetime.now()\n",
    "longest_chain_1(strings)\n",
    "print (datetime.now() - startTime)\n",
    "\n",
    "startTime = datetime.now()\n",
    "longest_chain_2(strings)\n",
    "print (datetime.now() - startTime)\n",
    "\n",
    "startTime = datetime.now()\n",
    "longest_chain_3(strings)\n",
    "print (datetime.now() - startTime)"
   ]
  },
  {
   "cell_type": "code",
   "execution_count": 382,
   "metadata": {
    "collapsed": false
   },
   "outputs": [
    {
     "data": {
      "text/plain": [
       "1"
      ]
     },
     "execution_count": 382,
     "metadata": {},
     "output_type": "execute_result"
    }
   ],
   "source": [
    "find_longest_chain('', ['', 'ab'], 0, [0])"
   ]
  },
  {
   "cell_type": "markdown",
   "metadata": {},
   "source": [
    "## Dynamic programming examples"
   ]
  },
  {
   "cell_type": "markdown",
   "metadata": {},
   "source": [
    "### Time intensive recursion"
   ]
  },
  {
   "cell_type": "code",
   "execution_count": 447,
   "metadata": {
    "collapsed": true
   },
   "outputs": [],
   "source": [
    "def solve(n):\n",
    "    if n < 0:\n",
    "        return 0\n",
    "    if n == 0:\n",
    "        return 1\n",
    "    else:\n",
    "        return solve(n-1) + solve(n-3) + solve(n-5)"
   ]
  },
  {
   "cell_type": "code",
   "execution_count": 448,
   "metadata": {
    "collapsed": false
   },
   "outputs": [
    {
     "name": "stdout",
     "output_type": "stream",
     "text": [
      "1510678\n",
      "0:00:01.894814\n"
     ]
    }
   ],
   "source": [
    "startTime = datetime.now()\n",
    "print(solve(33))\n",
    "print (datetime.now() - startTime)"
   ]
  },
  {
   "cell_type": "markdown",
   "metadata": {},
   "source": [
    "### DP faster computing time"
   ]
  },
  {
   "cell_type": "code",
   "execution_count": 449,
   "metadata": {
    "collapsed": false
   },
   "outputs": [],
   "source": [
    "dp = [None]*100\n",
    "def solve(n):\n",
    "    if n < 0:\n",
    "        return 0\n",
    "    if n == 0:\n",
    "        return 1\n",
    "    \n",
    "    if dp[n] != None:\n",
    "        return dp[n]\n",
    "\n",
    "    dp[n] = solve(n-1) + solve(n-3) + solve(n-5)\n",
    "    \n",
    "    return dp[n]\n",
    "        \n"
   ]
  },
  {
   "cell_type": "code",
   "execution_count": 451,
   "metadata": {
    "collapsed": false
   },
   "outputs": [
    {
     "name": "stdout",
     "output_type": "stream",
     "text": [
      "1510678\n",
      "0:00:00\n"
     ]
    }
   ],
   "source": [
    "startTime = datetime.now()\n",
    "print(solve(33))\n",
    "print (datetime.now() - startTime)"
   ]
  },
  {
   "cell_type": "code",
   "execution_count": 466,
   "metadata": {
    "collapsed": false
   },
   "outputs": [
    {
     "data": {
      "text/plain": [
       "array([[7379697, 5570769, 9776017, 4205249, 7379697,       0],\n",
       "       [7379697, 5570769, 9776017, 4205249, 7379697,       0],\n",
       "       [4205249, 3174448, 5570769, 2396320, 4205249,       0],\n",
       "       [2396320, 1808929, 3174448, 1365520, 2396320,       0],\n",
       "       [1365520, 1030800, 1808929,  778128, 1365520,       0],\n",
       "       [ 778128,  587392, 1030800,  443409,  778128,       0]])"
      ]
     },
     "execution_count": 466,
     "metadata": {},
     "output_type": "execute_result"
    }
   ],
   "source": [
    "matrix = [[1,0,1,0,1,0], [1,0,1,0,1,0], [0,1,0,0,0,0], [0,0,1,0,0,0], [0,0,0,1,0,0], [0,0,0,0,1,0]]\n",
    "np.linalg.matrix_power(matrix, 30)"
   ]
  },
  {
   "cell_type": "code",
   "execution_count": null,
   "metadata": {
    "collapsed": true
   },
   "outputs": [],
   "source": []
  }
 ],
 "metadata": {
  "anaconda-cloud": {},
  "kernelspec": {
   "display_name": "Python [Root]",
   "language": "python",
   "name": "Python [Root]"
  },
  "language_info": {
   "codemirror_mode": {
    "name": "ipython",
    "version": 3
   },
   "file_extension": ".py",
   "mimetype": "text/x-python",
   "name": "python",
   "nbconvert_exporter": "python",
   "pygments_lexer": "ipython3",
   "version": "3.5.2"
  }
 },
 "nbformat": 4,
 "nbformat_minor": 0
}
